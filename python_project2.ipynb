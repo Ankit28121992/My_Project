{
 "cells": [
  {
   "cell_type": "code",
   "execution_count": 1,
   "id": "6941fb3f-b1c4-4c7c-a861-2d3db9776758",
   "metadata": {},
   "outputs": [],
   "source": [
    "import pandas as pd\n",
    "import numpy as np\n",
    "import matplotlib.pyplot as plt\n",
    "import seaborn as sns\n",
    "from datetime import datetime\n",
    "from dateutil import parser"
   ]
  },
  {
   "cell_type": "code",
   "execution_count": 2,
   "id": "ebd0d8a9-e281-4f49-b89b-587c4aa62424",
   "metadata": {},
   "outputs": [],
   "source": [
    "df=pd.read_excel(\"airline_passengers.xlsx\")"
   ]
  },
  {
   "cell_type": "code",
   "execution_count": 3,
   "id": "38907bb7-0763-497c-ab98-10724c0be870",
   "metadata": {},
   "outputs": [],
   "source": [
    "pd.set_option('display.max_column',None)\n",
    "pd.set_option('display.max_rows',None)"
   ]
  },
  {
   "cell_type": "code",
   "execution_count": 54,
   "id": "d0a44cf8-9d65-4967-9c4b-e196aa426214",
   "metadata": {},
   "outputs": [
    {
     "data": {
      "text/html": [
       "<div>\n",
       "<style scoped>\n",
       "    .dataframe tbody tr th:only-of-type {\n",
       "        vertical-align: middle;\n",
       "    }\n",
       "\n",
       "    .dataframe tbody tr th {\n",
       "        vertical-align: top;\n",
       "    }\n",
       "\n",
       "    .dataframe thead th {\n",
       "        text-align: right;\n",
       "    }\n",
       "</style>\n",
       "<table border=\"1\" class=\"dataframe\">\n",
       "  <thead>\n",
       "    <tr style=\"text-align: right;\">\n",
       "      <th></th>\n",
       "      <th>Passenger_ID</th>\n",
       "      <th>Name</th>\n",
       "      <th>Gender</th>\n",
       "      <th>Flight_Number</th>\n",
       "      <th>Booking_Date</th>\n",
       "      <th>Ticket_Price</th>\n",
       "      <th>Class</th>\n",
       "      <th>Seat_Number</th>\n",
       "      <th>Baggage_Weight(kg)</th>\n",
       "      <th>Loyalty_Points</th>\n",
       "      <th>Meal_Preference</th>\n",
       "    </tr>\n",
       "  </thead>\n",
       "  <tbody>\n",
       "    <tr>\n",
       "      <th>0</th>\n",
       "      <td>1001</td>\n",
       "      <td>Nancy Campbell</td>\n",
       "      <td>Other</td>\n",
       "      <td>AI235</td>\n",
       "      <td>2023-06-20</td>\n",
       "      <td>450.000000</td>\n",
       "      <td>Economy</td>\n",
       "      <td>17F</td>\n",
       "      <td>35.0</td>\n",
       "      <td>2975</td>\n",
       "      <td>Veg</td>\n",
       "    </tr>\n",
       "    <tr>\n",
       "      <th>1</th>\n",
       "      <td>1002</td>\n",
       "      <td>Paul Adams</td>\n",
       "      <td>Female</td>\n",
       "      <td>AI251</td>\n",
       "      <td>2023-05-15</td>\n",
       "      <td>750.000000</td>\n",
       "      <td>First</td>\n",
       "      <td>6C</td>\n",
       "      <td>30.0</td>\n",
       "      <td>1915</td>\n",
       "      <td>Non-Veg</td>\n",
       "    </tr>\n",
       "    <tr>\n",
       "      <th>2</th>\n",
       "      <td>1003</td>\n",
       "      <td>Patricia Garcia</td>\n",
       "      <td>Male</td>\n",
       "      <td>AI232</td>\n",
       "      <td>2023-06-20</td>\n",
       "      <td>529.973684</td>\n",
       "      <td>First</td>\n",
       "      <td>30D</td>\n",
       "      <td>30.0</td>\n",
       "      <td>2284</td>\n",
       "      <td>Veg</td>\n",
       "    </tr>\n",
       "    <tr>\n",
       "      <th>3</th>\n",
       "      <td>1004</td>\n",
       "      <td>Samuel King</td>\n",
       "      <td>Other</td>\n",
       "      <td>AI275</td>\n",
       "      <td>2023-03-25</td>\n",
       "      <td>750.000000</td>\n",
       "      <td>First</td>\n",
       "      <td>14D</td>\n",
       "      <td>35.0</td>\n",
       "      <td>3036</td>\n",
       "      <td>Veg</td>\n",
       "    </tr>\n",
       "  </tbody>\n",
       "</table>\n",
       "</div>"
      ],
      "text/plain": [
       "   Passenger_ID             Name  Gender Flight_Number Booking_Date  \\\n",
       "0          1001   Nancy Campbell   Other         AI235   2023-06-20   \n",
       "1          1002       Paul Adams  Female         AI251   2023-05-15   \n",
       "2          1003  Patricia Garcia    Male         AI232   2023-06-20   \n",
       "3          1004      Samuel King   Other         AI275   2023-03-25   \n",
       "\n",
       "   Ticket_Price    Class Seat_Number  Baggage_Weight(kg)  Loyalty_Points  \\\n",
       "0    450.000000  Economy         17F                35.0            2975   \n",
       "1    750.000000    First          6C                30.0            1915   \n",
       "2    529.973684    First         30D                30.0            2284   \n",
       "3    750.000000    First         14D                35.0            3036   \n",
       "\n",
       "  Meal_Preference  \n",
       "0             Veg  \n",
       "1         Non-Veg  \n",
       "2             Veg  \n",
       "3             Veg  "
      ]
     },
     "execution_count": 54,
     "metadata": {},
     "output_type": "execute_result"
    }
   ],
   "source": [
    "df.head(4)"
   ]
  },
  {
   "cell_type": "code",
   "execution_count": 5,
   "id": "3715261c-52ea-4508-b1ac-e8f7563628f0",
   "metadata": {},
   "outputs": [
    {
     "data": {
      "text/html": [
       "<div>\n",
       "<style scoped>\n",
       "    .dataframe tbody tr th:only-of-type {\n",
       "        vertical-align: middle;\n",
       "    }\n",
       "\n",
       "    .dataframe tbody tr th {\n",
       "        vertical-align: top;\n",
       "    }\n",
       "\n",
       "    .dataframe thead th {\n",
       "        text-align: right;\n",
       "    }\n",
       "</style>\n",
       "<table border=\"1\" class=\"dataframe\">\n",
       "  <thead>\n",
       "    <tr style=\"text-align: right;\">\n",
       "      <th></th>\n",
       "      <th>Passenger_ID</th>\n",
       "      <th>Age</th>\n",
       "      <th>Ticket_Price</th>\n",
       "      <th>Baggage_Weight(kg)</th>\n",
       "      <th>Loyalty_Points</th>\n",
       "    </tr>\n",
       "  </thead>\n",
       "  <tbody>\n",
       "    <tr>\n",
       "      <th>count</th>\n",
       "      <td>850.00000</td>\n",
       "      <td>424.000000</td>\n",
       "      <td>760.000000</td>\n",
       "      <td>695.000000</td>\n",
       "      <td>850.000000</td>\n",
       "    </tr>\n",
       "    <tr>\n",
       "      <th>mean</th>\n",
       "      <td>1425.50000</td>\n",
       "      <td>37.856132</td>\n",
       "      <td>529.973684</td>\n",
       "      <td>24.338129</td>\n",
       "      <td>2547.845882</td>\n",
       "    </tr>\n",
       "    <tr>\n",
       "      <th>std</th>\n",
       "      <td>245.51816</td>\n",
       "      <td>12.285822</td>\n",
       "      <td>106.876848</td>\n",
       "      <td>6.884759</td>\n",
       "      <td>1459.963555</td>\n",
       "    </tr>\n",
       "    <tr>\n",
       "      <th>min</th>\n",
       "      <td>1001.00000</td>\n",
       "      <td>18.000000</td>\n",
       "      <td>380.000000</td>\n",
       "      <td>15.000000</td>\n",
       "      <td>6.000000</td>\n",
       "    </tr>\n",
       "    <tr>\n",
       "      <th>25%</th>\n",
       "      <td>1213.25000</td>\n",
       "      <td>27.000000</td>\n",
       "      <td>450.000000</td>\n",
       "      <td>20.000000</td>\n",
       "      <td>1282.000000</td>\n",
       "    </tr>\n",
       "    <tr>\n",
       "      <th>50%</th>\n",
       "      <td>1425.50000</td>\n",
       "      <td>38.000000</td>\n",
       "      <td>500.000000</td>\n",
       "      <td>25.000000</td>\n",
       "      <td>2504.500000</td>\n",
       "    </tr>\n",
       "    <tr>\n",
       "      <th>75%</th>\n",
       "      <td>1637.75000</td>\n",
       "      <td>47.000000</td>\n",
       "      <td>590.000000</td>\n",
       "      <td>30.000000</td>\n",
       "      <td>3850.250000</td>\n",
       "    </tr>\n",
       "    <tr>\n",
       "      <th>max</th>\n",
       "      <td>1850.00000</td>\n",
       "      <td>60.000000</td>\n",
       "      <td>750.000000</td>\n",
       "      <td>35.000000</td>\n",
       "      <td>4995.000000</td>\n",
       "    </tr>\n",
       "  </tbody>\n",
       "</table>\n",
       "</div>"
      ],
      "text/plain": [
       "       Passenger_ID         Age  Ticket_Price  Baggage_Weight(kg)  \\\n",
       "count     850.00000  424.000000    760.000000          695.000000   \n",
       "mean     1425.50000   37.856132    529.973684           24.338129   \n",
       "std       245.51816   12.285822    106.876848            6.884759   \n",
       "min      1001.00000   18.000000    380.000000           15.000000   \n",
       "25%      1213.25000   27.000000    450.000000           20.000000   \n",
       "50%      1425.50000   38.000000    500.000000           25.000000   \n",
       "75%      1637.75000   47.000000    590.000000           30.000000   \n",
       "max      1850.00000   60.000000    750.000000           35.000000   \n",
       "\n",
       "       Loyalty_Points  \n",
       "count      850.000000  \n",
       "mean      2547.845882  \n",
       "std       1459.963555  \n",
       "min          6.000000  \n",
       "25%       1282.000000  \n",
       "50%       2504.500000  \n",
       "75%       3850.250000  \n",
       "max       4995.000000  "
      ]
     },
     "execution_count": 5,
     "metadata": {},
     "output_type": "execute_result"
    }
   ],
   "source": [
    "df.describe()"
   ]
  },
  {
   "cell_type": "markdown",
   "id": "e478a741-b55f-4ade-bcdc-1505d05b5d50",
   "metadata": {},
   "source": [
    "# Check duplicate"
   ]
  },
  {
   "cell_type": "code",
   "execution_count": 7,
   "id": "388c740b-ef57-4765-8373-bc895bd0bd0d",
   "metadata": {},
   "outputs": [
    {
     "data": {
      "text/plain": [
       "0"
      ]
     },
     "execution_count": 7,
     "metadata": {},
     "output_type": "execute_result"
    }
   ],
   "source": [
    "df.duplicated().sum()"
   ]
  },
  {
   "cell_type": "markdown",
   "id": "e9014d31-b431-4184-80c5-882fdf81dca4",
   "metadata": {},
   "source": [
    "No duplicate"
   ]
  },
  {
   "cell_type": "markdown",
   "id": "b1379829-734e-4f39-8f41-43517bab1ca5",
   "metadata": {},
   "source": [
    "# Handle Null Values"
   ]
  },
  {
   "cell_type": "code",
   "execution_count": 10,
   "id": "a353f827-f26c-45db-b139-aad9c2be456f",
   "metadata": {},
   "outputs": [
    {
     "data": {
      "text/plain": [
       "Passenger_ID            0\n",
       "Name                    0\n",
       "Age                   426\n",
       "Gender                  0\n",
       "Flight_Number           0\n",
       "Booking_Date            0\n",
       "Ticket_Price           90\n",
       "Class                   0\n",
       "Seat_Number             0\n",
       "Baggage_Weight(kg)    155\n",
       "Loyalty_Points          0\n",
       "Meal_Preference       194\n",
       "dtype: int64"
      ]
     },
     "execution_count": 10,
     "metadata": {},
     "output_type": "execute_result"
    }
   ],
   "source": [
    "df.isna().sum()"
   ]
  },
  {
   "cell_type": "code",
   "execution_count": 11,
   "id": "448fd576-5b47-45dd-8cd0-74ba699759b0",
   "metadata": {},
   "outputs": [
    {
     "data": {
      "text/plain": [
       "(850, 12)"
      ]
     },
     "execution_count": 11,
     "metadata": {},
     "output_type": "execute_result"
    }
   ],
   "source": [
    "df.shape"
   ]
  },
  {
   "cell_type": "markdown",
   "id": "c5ff295d-e0fe-447a-bbd2-dc9161c837f2",
   "metadata": {},
   "source": [
    "### Delete columns have more than 40% null values"
   ]
  },
  {
   "cell_type": "code",
   "execution_count": 13,
   "id": "a515a812-a012-47c0-bf93-2eb0697b9de8",
   "metadata": {},
   "outputs": [
    {
     "data": {
      "text/plain": [
       "Index(['Age'], dtype='object')"
      ]
     },
     "execution_count": 13,
     "metadata": {},
     "output_type": "execute_result"
    }
   ],
   "source": [
    "df.columns[df.isna().sum()/df.shape[0]>0.4]"
   ]
  },
  {
   "cell_type": "code",
   "execution_count": 14,
   "id": "18642d15-d2d7-4b77-9c9c-a0d6d8eff757",
   "metadata": {},
   "outputs": [],
   "source": [
    "df=df.drop(\"Age\",axis=1)"
   ]
  },
  {
   "cell_type": "markdown",
   "id": "63060e77-cc18-4144-b70e-d5a416af659e",
   "metadata": {},
   "source": [
    "### Fill null values"
   ]
  },
  {
   "cell_type": "code",
   "execution_count": 16,
   "id": "f80062e4-04b2-44c8-a1c9-e9984cbe0b2e",
   "metadata": {},
   "outputs": [
    {
     "data": {
      "text/plain": [
       "Index(['Passenger_ID', 'Ticket_Price', 'Baggage_Weight(kg)', 'Loyalty_Points'], dtype='object')"
      ]
     },
     "execution_count": 16,
     "metadata": {},
     "output_type": "execute_result"
    }
   ],
   "source": [
    "df.select_dtypes(exclude='O').columns"
   ]
  },
  {
   "cell_type": "markdown",
   "id": "bd7fbed5-fb82-4bff-a314-f40c04147cc2",
   "metadata": {},
   "source": [
    "### int or float type columns'null values change into mean"
   ]
  },
  {
   "cell_type": "code",
   "execution_count": 18,
   "id": "1651c7e8-9511-4a32-84d6-28599d90a5f5",
   "metadata": {},
   "outputs": [],
   "source": [
    "columns=['Passenger_ID', 'Ticket_Price', 'Baggage_Weight(kg)', 'Loyalty_Points']\n",
    "df[columns]=df[columns].fillna(df[columns].mean())"
   ]
  },
  {
   "cell_type": "code",
   "execution_count": 19,
   "id": "29f82714-4e47-4b32-8451-146ae35eb87b",
   "metadata": {},
   "outputs": [
    {
     "data": {
      "text/plain": [
       "Passenger_ID            0\n",
       "Name                    0\n",
       "Gender                  0\n",
       "Flight_Number           0\n",
       "Booking_Date            0\n",
       "Ticket_Price            0\n",
       "Class                   0\n",
       "Seat_Number             0\n",
       "Baggage_Weight(kg)      0\n",
       "Loyalty_Points          0\n",
       "Meal_Preference       194\n",
       "dtype: int64"
      ]
     },
     "execution_count": 19,
     "metadata": {},
     "output_type": "execute_result"
    }
   ],
   "source": [
    "df.isnull().sum()"
   ]
  },
  {
   "cell_type": "code",
   "execution_count": 20,
   "id": "c2524bc3-e29b-43b3-92a4-fac55e548e96",
   "metadata": {},
   "outputs": [
    {
     "data": {
      "text/plain": [
       "array(['Veg', 'Non-Veg', 'Vegan', nan], dtype=object)"
      ]
     },
     "execution_count": 20,
     "metadata": {},
     "output_type": "execute_result"
    }
   ],
   "source": [
    "df[\"Meal_Preference\"].unique()"
   ]
  },
  {
   "cell_type": "markdown",
   "id": "3c4414be-ca79-4939-925c-fa1f518fc5ed",
   "metadata": {},
   "source": [
    "### Meal_Preference's null value change into veg "
   ]
  },
  {
   "cell_type": "code",
   "execution_count": 22,
   "id": "14422b18-44a6-4f76-9aaf-4a2f5d102b7b",
   "metadata": {},
   "outputs": [],
   "source": [
    "df[\"Meal_Preference\"] = df[\"Meal_Preference\"].fillna(\"Veg\")\n"
   ]
  },
  {
   "cell_type": "code",
   "execution_count": 23,
   "id": "c29f27a7-cade-4c48-95c7-8876557e6187",
   "metadata": {},
   "outputs": [
    {
     "data": {
      "text/plain": [
       "Passenger_ID          0\n",
       "Name                  0\n",
       "Gender                0\n",
       "Flight_Number         0\n",
       "Booking_Date          0\n",
       "Ticket_Price          0\n",
       "Class                 0\n",
       "Seat_Number           0\n",
       "Baggage_Weight(kg)    0\n",
       "Loyalty_Points        0\n",
       "Meal_Preference       0\n",
       "dtype: int64"
      ]
     },
     "execution_count": 23,
     "metadata": {},
     "output_type": "execute_result"
    }
   ],
   "source": [
    "df.isna().sum()"
   ]
  },
  {
   "cell_type": "code",
   "execution_count": 24,
   "id": "e23f022f-a47c-41c2-999d-87e550463f07",
   "metadata": {},
   "outputs": [
    {
     "data": {
      "text/html": [
       "<div>\n",
       "<style scoped>\n",
       "    .dataframe tbody tr th:only-of-type {\n",
       "        vertical-align: middle;\n",
       "    }\n",
       "\n",
       "    .dataframe tbody tr th {\n",
       "        vertical-align: top;\n",
       "    }\n",
       "\n",
       "    .dataframe thead th {\n",
       "        text-align: right;\n",
       "    }\n",
       "</style>\n",
       "<table border=\"1\" class=\"dataframe\">\n",
       "  <thead>\n",
       "    <tr style=\"text-align: right;\">\n",
       "      <th></th>\n",
       "      <th>Passenger_ID</th>\n",
       "      <th>Name</th>\n",
       "      <th>Gender</th>\n",
       "      <th>Flight_Number</th>\n",
       "      <th>Booking_Date</th>\n",
       "      <th>Ticket_Price</th>\n",
       "      <th>Class</th>\n",
       "      <th>Seat_Number</th>\n",
       "      <th>Baggage_Weight(kg)</th>\n",
       "      <th>Loyalty_Points</th>\n",
       "      <th>Meal_Preference</th>\n",
       "    </tr>\n",
       "  </thead>\n",
       "  <tbody>\n",
       "    <tr>\n",
       "      <th>0</th>\n",
       "      <td>1001</td>\n",
       "      <td>Nancy Campbell</td>\n",
       "      <td>Other</td>\n",
       "      <td>AI235</td>\n",
       "      <td>2023/06/20</td>\n",
       "      <td>450.000000</td>\n",
       "      <td>Economy</td>\n",
       "      <td>17F</td>\n",
       "      <td>35.0</td>\n",
       "      <td>2975</td>\n",
       "      <td>Veg</td>\n",
       "    </tr>\n",
       "    <tr>\n",
       "      <th>1</th>\n",
       "      <td>1002</td>\n",
       "      <td>Paul Adams</td>\n",
       "      <td>Female</td>\n",
       "      <td>AI251</td>\n",
       "      <td>15-05-2023</td>\n",
       "      <td>750.000000</td>\n",
       "      <td>First</td>\n",
       "      <td>6C</td>\n",
       "      <td>30.0</td>\n",
       "      <td>1915</td>\n",
       "      <td>Non-Veg</td>\n",
       "    </tr>\n",
       "    <tr>\n",
       "      <th>2</th>\n",
       "      <td>1003</td>\n",
       "      <td>Patricia Garcia</td>\n",
       "      <td>Male</td>\n",
       "      <td>AI232</td>\n",
       "      <td>2023/06/20</td>\n",
       "      <td>529.973684</td>\n",
       "      <td>First</td>\n",
       "      <td>30D</td>\n",
       "      <td>30.0</td>\n",
       "      <td>2284</td>\n",
       "      <td>Veg</td>\n",
       "    </tr>\n",
       "    <tr>\n",
       "      <th>3</th>\n",
       "      <td>1004</td>\n",
       "      <td>Samuel King</td>\n",
       "      <td>Other</td>\n",
       "      <td>AI275</td>\n",
       "      <td>03/25/2023</td>\n",
       "      <td>750.000000</td>\n",
       "      <td>First</td>\n",
       "      <td>14D</td>\n",
       "      <td>35.0</td>\n",
       "      <td>3036</td>\n",
       "      <td>Veg</td>\n",
       "    </tr>\n",
       "    <tr>\n",
       "      <th>4</th>\n",
       "      <td>1005</td>\n",
       "      <td>Samuel King</td>\n",
       "      <td>Male</td>\n",
       "      <td>AI236</td>\n",
       "      <td>2023/06/20</td>\n",
       "      <td>450.000000</td>\n",
       "      <td>Business</td>\n",
       "      <td>28D</td>\n",
       "      <td>15.0</td>\n",
       "      <td>3035</td>\n",
       "      <td>Veg</td>\n",
       "    </tr>\n",
       "  </tbody>\n",
       "</table>\n",
       "</div>"
      ],
      "text/plain": [
       "   Passenger_ID             Name  Gender Flight_Number Booking_Date  \\\n",
       "0          1001   Nancy Campbell   Other         AI235   2023/06/20   \n",
       "1          1002       Paul Adams  Female         AI251   15-05-2023   \n",
       "2          1003  Patricia Garcia    Male         AI232   2023/06/20   \n",
       "3          1004      Samuel King   Other         AI275   03/25/2023   \n",
       "4          1005      Samuel King    Male         AI236   2023/06/20   \n",
       "\n",
       "   Ticket_Price     Class Seat_Number  Baggage_Weight(kg)  Loyalty_Points  \\\n",
       "0    450.000000   Economy         17F                35.0            2975   \n",
       "1    750.000000     First          6C                30.0            1915   \n",
       "2    529.973684     First         30D                30.0            2284   \n",
       "3    750.000000     First         14D                35.0            3036   \n",
       "4    450.000000  Business         28D                15.0            3035   \n",
       "\n",
       "  Meal_Preference  \n",
       "0             Veg  \n",
       "1         Non-Veg  \n",
       "2             Veg  \n",
       "3             Veg  \n",
       "4             Veg  "
      ]
     },
     "execution_count": 24,
     "metadata": {},
     "output_type": "execute_result"
    }
   ],
   "source": [
    "df.head()"
   ]
  },
  {
   "cell_type": "markdown",
   "id": "cd1f8153-4d02-41bb-98b9-f5b432228fa1",
   "metadata": {},
   "source": [
    "# Date Format Standardization"
   ]
  },
  {
   "cell_type": "code",
   "execution_count": 26,
   "id": "3878fa39-e1af-4a87-af1f-c94d3a364058",
   "metadata": {},
   "outputs": [],
   "source": [
    "df['Booking_Date'] = df['Booking_Date'].astype(str).apply(lambda x: parser.parse(x, dayfirst=True).strftime('%Y-%m-%d') if x.strip() else x)"
   ]
  },
  {
   "cell_type": "code",
   "execution_count": 47,
   "id": "760ca5a5-0ac2-406d-b3d0-2c62b213d873",
   "metadata": {},
   "outputs": [
    {
     "data": {
      "text/html": [
       "<div>\n",
       "<style scoped>\n",
       "    .dataframe tbody tr th:only-of-type {\n",
       "        vertical-align: middle;\n",
       "    }\n",
       "\n",
       "    .dataframe tbody tr th {\n",
       "        vertical-align: top;\n",
       "    }\n",
       "\n",
       "    .dataframe thead th {\n",
       "        text-align: right;\n",
       "    }\n",
       "</style>\n",
       "<table border=\"1\" class=\"dataframe\">\n",
       "  <thead>\n",
       "    <tr style=\"text-align: right;\">\n",
       "      <th></th>\n",
       "      <th>Passenger_ID</th>\n",
       "      <th>Name</th>\n",
       "      <th>Gender</th>\n",
       "      <th>Flight_Number</th>\n",
       "      <th>Booking_Date</th>\n",
       "      <th>Ticket_Price</th>\n",
       "      <th>Class</th>\n",
       "      <th>Seat_Number</th>\n",
       "      <th>Baggage_Weight(kg)</th>\n",
       "      <th>Loyalty_Points</th>\n",
       "      <th>Meal_Preference</th>\n",
       "    </tr>\n",
       "  </thead>\n",
       "  <tbody>\n",
       "    <tr>\n",
       "      <th>0</th>\n",
       "      <td>1001</td>\n",
       "      <td>Nancy Campbell</td>\n",
       "      <td>Other</td>\n",
       "      <td>AI235</td>\n",
       "      <td>2023-06-20</td>\n",
       "      <td>450.000000</td>\n",
       "      <td>Economy</td>\n",
       "      <td>17F</td>\n",
       "      <td>35.0</td>\n",
       "      <td>2975</td>\n",
       "      <td>Veg</td>\n",
       "    </tr>\n",
       "    <tr>\n",
       "      <th>1</th>\n",
       "      <td>1002</td>\n",
       "      <td>Paul Adams</td>\n",
       "      <td>Female</td>\n",
       "      <td>AI251</td>\n",
       "      <td>2023-05-15</td>\n",
       "      <td>750.000000</td>\n",
       "      <td>First</td>\n",
       "      <td>6C</td>\n",
       "      <td>30.0</td>\n",
       "      <td>1915</td>\n",
       "      <td>Non-Veg</td>\n",
       "    </tr>\n",
       "    <tr>\n",
       "      <th>2</th>\n",
       "      <td>1003</td>\n",
       "      <td>Patricia Garcia</td>\n",
       "      <td>Male</td>\n",
       "      <td>AI232</td>\n",
       "      <td>2023-06-20</td>\n",
       "      <td>529.973684</td>\n",
       "      <td>First</td>\n",
       "      <td>30D</td>\n",
       "      <td>30.0</td>\n",
       "      <td>2284</td>\n",
       "      <td>Veg</td>\n",
       "    </tr>\n",
       "    <tr>\n",
       "      <th>3</th>\n",
       "      <td>1004</td>\n",
       "      <td>Samuel King</td>\n",
       "      <td>Other</td>\n",
       "      <td>AI275</td>\n",
       "      <td>2023-03-25</td>\n",
       "      <td>750.000000</td>\n",
       "      <td>First</td>\n",
       "      <td>14D</td>\n",
       "      <td>35.0</td>\n",
       "      <td>3036</td>\n",
       "      <td>Veg</td>\n",
       "    </tr>\n",
       "    <tr>\n",
       "      <th>4</th>\n",
       "      <td>1005</td>\n",
       "      <td>Samuel King</td>\n",
       "      <td>Male</td>\n",
       "      <td>AI236</td>\n",
       "      <td>2023-06-20</td>\n",
       "      <td>450.000000</td>\n",
       "      <td>Business</td>\n",
       "      <td>28D</td>\n",
       "      <td>15.0</td>\n",
       "      <td>3035</td>\n",
       "      <td>Veg</td>\n",
       "    </tr>\n",
       "  </tbody>\n",
       "</table>\n",
       "</div>"
      ],
      "text/plain": [
       "   Passenger_ID             Name  Gender Flight_Number Booking_Date  \\\n",
       "0          1001   Nancy Campbell   Other         AI235   2023-06-20   \n",
       "1          1002       Paul Adams  Female         AI251   2023-05-15   \n",
       "2          1003  Patricia Garcia    Male         AI232   2023-06-20   \n",
       "3          1004      Samuel King   Other         AI275   2023-03-25   \n",
       "4          1005      Samuel King    Male         AI236   2023-06-20   \n",
       "\n",
       "   Ticket_Price     Class Seat_Number  Baggage_Weight(kg)  Loyalty_Points  \\\n",
       "0    450.000000   Economy         17F                35.0            2975   \n",
       "1    750.000000     First          6C                30.0            1915   \n",
       "2    529.973684     First         30D                30.0            2284   \n",
       "3    750.000000     First         14D                35.0            3036   \n",
       "4    450.000000  Business         28D                15.0            3035   \n",
       "\n",
       "  Meal_Preference  \n",
       "0             Veg  \n",
       "1         Non-Veg  \n",
       "2             Veg  \n",
       "3             Veg  \n",
       "4             Veg  "
      ]
     },
     "execution_count": 47,
     "metadata": {},
     "output_type": "execute_result"
    }
   ],
   "source": [
    "df.head()"
   ]
  },
  {
   "cell_type": "markdown",
   "id": "b7056345-93c7-49b7-8bdc-ac7b11a53299",
   "metadata": {},
   "source": [
    "### All Data are Cleaned"
   ]
  },
  {
   "cell_type": "markdown",
   "id": "6a6f3bdf-6902-4e17-a37d-068f4757b153",
   "metadata": {},
   "source": [
    "# Exploratory Data Analysis"
   ]
  },
  {
   "cell_type": "code",
   "execution_count": 61,
   "id": "5457cd45-9492-4280-add7-fd59c39850ae",
   "metadata": {},
   "outputs": [
    {
     "name": "stderr",
     "output_type": "stream",
     "text": [
      "C:\\Users\\user\\AppData\\Local\\Temp\\ipykernel_19196\\2914195959.py:2: FutureWarning: \n",
      "\n",
      "Passing `palette` without assigning `hue` is deprecated and will be removed in v0.14.0. Assign the `x` variable to `hue` and set `legend=False` for the same effect.\n",
      "\n",
      "  sns.countplot(x='Gender', data=df, palette='coolwarm')\n"
     ]
    },
    {
     "data": {
      "image/png": "[encoded data removed]",
      "text/plain": [
       "<Figure size 640x480 with 1 Axes>"
      ]
     },
     "metadata": {},
     "output_type": "display_data"
    }
   ],
   "source": [
    "#Gender Distribution\n",
    "sns.countplot(x='Gender', data=df, palette='coolwarm')\n",
    "plt.title('Gender Distribution')\n",
    "plt.show()"
   ]
  },
  {
   "cell_type": "code",
   "execution_count": 63,
   "id": "f2dc0e16-3de6-4a6d-a5da-dcbe6bb77863",
   "metadata": {},
   "outputs": [
    {
     "name": "stderr",
     "output_type": "stream",
     "text": [
      "C:\\Users\\user\\AppData\\Local\\Temp\\ipykernel_19196\\3622591199.py:1: FutureWarning: \n",
      "\n",
      "Passing `palette` without assigning `hue` is deprecated and will be removed in v0.14.0. Assign the `x` variable to `hue` and set `legend=False` for the same effect.\n",
      "\n",
      "  sns.countplot(x='Class', data=df, palette='Set2')\n"
     ]
    },
    {
     "data": {
      "image/png": "[encoded data removed]",
      "text/plain": [
       "<Figure size 640x480 with 1 Axes>"
      ]
     },
     "metadata": {},
     "output_type": "display_data"
    }
   ],
   "source": [
    "sns.countplot(x='Class', data=df, palette='Set2')\n",
    "plt.title('Class-wise Ticket Booking')\n",
    "plt.show()\n"
   ]
  },
  {
   "cell_type": "code",
   "execution_count": 65,
   "id": "4d8267b9-8459-4446-af72-7ca9344cf11e",
   "metadata": {},
   "outputs": [
    {
     "name": "stderr",
     "output_type": "stream",
     "text": [
      "C:\\Users\\user\\AppData\\Local\\Temp\\ipykernel_19196\\358532041.py:1: FutureWarning: \n",
      "\n",
      "Passing `palette` without assigning `hue` is deprecated and will be removed in v0.14.0. Assign the `x` variable to `hue` and set `legend=False` for the same effect.\n",
      "\n",
      "  sns.countplot(x='Meal_Preference', data=df, palette='viridis')\n"
     ]
    },
    {
     "data": {
      "image/png": "[encoded data removed]",
      "text/plain": [
       "<Figure size 640x480 with 1 Axes>"
      ]
     },
     "metadata": {},
     "output_type": "display_data"
    }
   ],
   "source": [
    "sns.countplot(x='Meal_Preference', data=df, palette='viridis')\n",
    "plt.title('Meal Preference Distribution')\n",
    "plt.show()"
   ]
  },
  {
   "cell_type": "markdown",
   "id": "9b30b750-f0e2-4f43-aba9-f4cb52ebd839",
   "metadata": {},
   "source": [
    "## Key insights"
   ]
  },
  {
   "cell_type": "markdown",
   "id": "b0810a1d-4035-4295-bcdc-f846127f2a41",
   "metadata": {},
   "source": [
    "### Most Frequently Booked Flights"
   ]
  },
  {
   "cell_type": "code",
   "execution_count": 70,
   "id": "fdfabd73-06f8-4d43-8303-eb5eef29ecd4",
   "metadata": {},
   "outputs": [
    {
     "name": "stdout",
     "output_type": "stream",
     "text": [
      "Flight_Number\n",
      "AI293    16\n",
      "AI236    16\n",
      "AI263    15\n",
      "AI215    14\n",
      "AI211    14\n",
      "Name: count, dtype: int64\n"
     ]
    }
   ],
   "source": [
    "print(df['Flight_Number'].value_counts().head(5))\n"
   ]
  },
  {
   "cell_type": "markdown",
   "id": "5a6b49a6-8c06-430c-b56e-5b1afa42965f",
   "metadata": {},
   "source": [
    "### Most Popular Travel Class"
   ]
  },
  {
   "cell_type": "code",
   "execution_count": 73,
   "id": "c1b0f9fd-9b01-4155-ae55-2ba7c3d2e407",
   "metadata": {},
   "outputs": [
    {
     "name": "stdout",
     "output_type": "stream",
     "text": [
      "Class\n",
      "First       296\n",
      "Economy     292\n",
      "Business    262\n",
      "Name: count, dtype: int64\n"
     ]
    }
   ],
   "source": [
    "print(df['Class'].value_counts())\n"
   ]
  },
  {
   "cell_type": "markdown",
   "id": "09b872b7-08db-4a8e-b43b-53cdab5c7b99",
   "metadata": {},
   "source": [
    "# Recommendations Based on Data Insights"
   ]
  },
  {
   "cell_type": "markdown",
   "id": "ed3e1613-d238-4aba-b986-5ffa3bc6b4b5",
   "metadata": {},
   "source": [
    "### Top Booked Flights:"
   ]
  },
  {
   "cell_type": "markdown",
   "id": "76b515f5-a426-4923-a1da-02f4e43b4114",
   "metadata": {},
   "source": [
    "AI293, AI236, AI263, AI215, AI211 are the most frequently booked flights.\n",
    "\n",
    "These routes likely have a high number of frequent travelers, so airlines should increase flight frequency or deploy larger aircraft to meet demand.\n",
    "\n",
    "Airlines can introduce premium services or special offers on these routes to maximize revenue."
   ]
  },
  {
   "cell_type": "markdown",
   "id": "0d0dfeb6-cdbb-48e0-b4b0-69f45ff6111a",
   "metadata": {},
   "source": [
    "### Class-wise Demand: Adjust Pricing & Offers"
   ]
  },
  {
   "cell_type": "markdown",
   "id": "21e687eb-fb70-4b7b-8ce8-7725019db22a",
   "metadata": {},
   "source": [
    "First Class (296), Economy (292), Business (262)\n",
    "\n",
    "Demand for all three classes is nearly equal, but First Class has the highest number of bookings.\n",
    "\n",
    "Airlines should enhance luxury services and introduce premium packages to attract more First-Class passengers.\n",
    "\n",
    "Economy Class consists of budget travelers, so airlines should introduce discounted short-haul tickets and group discounts to attract more customers."
   ]
  },
  {
   "cell_type": "markdown",
   "id": "6e2f39ad-eb0b-4c4b-a9ca-995596df7fec",
   "metadata": {},
   "source": [
    "### Revenue Maximization Strategies\n",
    "### Dynamic Pricing & Seasonal Adjustments:\n",
    "\n"
   ]
  },
  {
   "cell_type": "markdown",
   "id": "3a652e77-1c26-421a-b4ab-7bb6038e98fc",
   "metadata": {},
   "source": [
    "If a flight route has high demand, airlines should implement dynamic pricing (gradually increasing ticket prices as demand rises).\n",
    "\n",
    "During peak seasons, First Class and Business Class tickets can be priced higher to maximize profits."
   ]
  },
  {
   "cell_type": "markdown",
   "id": "1f24eb72-8f55-4205-8199-f3b480a18dc3",
   "metadata": {},
   "source": [
    "###  Customer Engagement & Loyalty Programs\n",
    "### Special Offers for Frequent Flyers:"
   ]
  },
  {
   "cell_type": "markdown",
   "id": "177927d2-6df4-4376-a5c6-b04d1aebdb0f",
   "metadata": {},
   "source": [
    "Passengers frequently traveling on high-demand flights should be offered special loyalty rewards.\n",
    "\n",
    "Premium and Business Class travelers can be provided free lounge access, extra baggage allowances, and upgrade offers to increase customer satisfaction."
   ]
  },
  {
   "cell_type": "code",
   "execution_count": null,
   "id": "9f9113b9-1a8d-49ce-a441-2d5f0037a13b",
   "metadata": {},
   "outputs": [],
   "source": []
  }
 ],
 "metadata": {
  "kernelspec": {
   "display_name": "Python 3 (ipykernel)",
   "language": "python",
   "name": "python3"
  },
  "language_info": {
   "codemirror_mode": {
    "name": "ipython",
    "version": 3
   },
   "file_extension": ".py",
   "mimetype": "text/x-python",
   "name": "python",
   "nbconvert_exporter": "python",
   "pygments_lexer": "ipython3",
   "version": "3.12.7"
  }
 },
 "nbformat": 4,
 "nbformat_minor": 5
}
